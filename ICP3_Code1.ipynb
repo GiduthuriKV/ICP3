{
  "nbformat": 4,
  "nbformat_minor": 0,
  "metadata": {
    "colab": {
      "provenance": [],
      "authorship_tag": "ABX9TyN/iQGS2PoxR9aXCJaklEzm",
      "include_colab_link": true
    },
    "kernelspec": {
      "name": "python3",
      "display_name": "Python 3"
    },
    "language_info": {
      "name": "python"
    }
  },
  "cells": [
    {
      "cell_type": "markdown",
      "metadata": {
        "id": "view-in-github",
        "colab_type": "text"
      },
      "source": [
        "<a href=\"https://colab.research.google.com/github/GiduthuriKV/ICP3/blob/main/ICP3_Code1.ipynb\" target=\"_parent\"><img src=\"https://colab.research.google.com/assets/colab-badge.svg\" alt=\"Open In Colab\"/></a>"
      ]
    },
    {
      "cell_type": "code",
      "execution_count": 2,
      "metadata": {
        "colab": {
          "base_uri": "https://localhost:8080/"
        },
        "id": "LvUBUoZJwFrQ",
        "outputId": "4808841e-61ab-4aa6-cd7e-4f4d39f13df6"
      },
      "outputs": [
        {
          "output_type": "stream",
          "name": "stdout",
          "text": [
            "1666.6666666666667\n",
            "2000.0\n",
            "2666.6666666666665\n"
          ]
        }
      ],
      "source": [
        "class Employee:\n",
        "    # Create a data member to count the number of Employees\n",
        "    count = 0\n",
        "    \n",
        "    # Create a constructor to initialize name, family, salary, department\n",
        "    def __init__(self, name, family, salary, department):\n",
        "        self.name = name\n",
        "        self.family = family\n",
        "        self.salary = salary\n",
        "        self.department = department\n",
        "        Employee.count += 1\n",
        "    \n",
        "    # Create a function to average salary\n",
        "    def average_salary(self):\n",
        "        return self.salary / Employee.count\n",
        "\n",
        "# Create a Fulltime Employee class and it should inherit the properties of Employee class\n",
        "class FulltimeEmployee(Employee):\n",
        "    pass\n",
        "\n",
        "# Create the instances of Fulltime Employee class and Employee class \n",
        "e1 = Employee(\"John\", \"Doe\", 5000, \"IT\")\n",
        "e2 = Employee(\"Jane\", \"Doe\", 6000, \"IT\")\n",
        "e3 = FulltimeEmployee(\"Bob\", \"Doe\", 8000, \"IT\")\n",
        "\n",
        "# Call their member functions\n",
        "print(e1.average_salary())\n",
        "print(e2.average_salary())\n",
        "print(e3.average_salary())"
      ]
    },
    {
      "cell_type": "code",
      "source": [],
      "metadata": {
        "id": "sAq4Pge4wMAo"
      },
      "execution_count": null,
      "outputs": []
    }
  ]
}