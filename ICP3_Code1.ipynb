{
  "nbformat": 4,
  "nbformat_minor": 0,
  "metadata": {
    "colab": {
      "provenance": [],
      "authorship_tag": "ABX9TyOrcXZ5LNdCuq9bQe9jgTrK",
      "include_colab_link": true
    },
    "kernelspec": {
      "name": "python3",
      "display_name": "Python 3"
    },
    "language_info": {
      "name": "python"
    }
  },
  "cells": [
    {
      "cell_type": "markdown",
      "metadata": {
        "id": "view-in-github",
        "colab_type": "text"
      },
      "source": [
        "<a href=\"https://colab.research.google.com/github/GiduthuriKV/ICP3/blob/main/ICP3_Code1.ipynb\" target=\"_parent\"><img src=\"https://colab.research.google.com/assets/colab-badge.svg\" alt=\"Open In Colab\"/></a>"
      ]
    },
    {
      "cell_type": "code",
      "execution_count": 3,
      "metadata": {
        "colab": {
          "base_uri": "https://localhost:8080/"
        },
        "id": "LvUBUoZJwFrQ",
        "outputId": "780e060b-aebe-4c38-c6cf-d151a8b5f97e"
      },
      "outputs": [
        {
          "output_type": "stream",
          "name": "stdout",
          "text": [
            "400.0\n",
            "553.3333333333334\n",
            "600.0\n"
          ]
        }
      ],
      "source": [
        "class Employee:\n",
        "    count = 0\n",
        "    \n",
        "    def __init__(self, name, family, salary, department):\n",
        "        self.name = name\n",
        "        self.family = family\n",
        "        self.salary = salary\n",
        "        self.department = department\n",
        "        Employee.count += 1\n",
        "    \n",
        "    def average_salary(self):\n",
        "        return self.salary / Employee.count\n",
        "\n",
        "class FulltimeEmployee(Employee):\n",
        "    pass\n",
        " \n",
        "emp1 = Employee(\"Krishna\", \"Vamsi\", 1200, \"CIS\")\n",
        "emp2 = Employee(\"Rahul\", \"Ram\", 1660, \"CIS\")\n",
        "emp3 = FulltimeEmployee(\"Mahesh\", \"Babu\", 1800, \"CIS\")\n",
        "\n",
        "print(emp1.average_salary())\n",
        "print(emp2.average_salary())\n",
        "print(emp3.average_salary())"
      ]
    },
    {
      "cell_type": "code",
      "source": [],
      "metadata": {
        "id": "sAq4Pge4wMAo"
      },
      "execution_count": null,
      "outputs": []
    }
  ]
}