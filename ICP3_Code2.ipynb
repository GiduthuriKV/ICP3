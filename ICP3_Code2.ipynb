{
  "nbformat": 4,
  "nbformat_minor": 0,
  "metadata": {
    "colab": {
      "provenance": [],
      "authorship_tag": "ABX9TyMkLorPIx/5baYG9h/PaNBz",
      "include_colab_link": true
    },
    "kernelspec": {
      "name": "python3",
      "display_name": "Python 3"
    },
    "language_info": {
      "name": "python"
    }
  },
  "cells": [
    {
      "cell_type": "markdown",
      "metadata": {
        "id": "view-in-github",
        "colab_type": "text"
      },
      "source": [
        "<a href=\"https://colab.research.google.com/github/GiduthuriKV/ICP3/blob/main/ICP3_Code2.ipynb\" target=\"_parent\"><img src=\"https://colab.research.google.com/assets/colab-badge.svg\" alt=\"Open In Colab\"/></a>"
      ]
    },
    {
      "cell_type": "code",
      "execution_count": 2,
      "metadata": {
        "id": "NUFf_MpJIgbI"
      },
      "outputs": [],
      "source": [
        "import numpy as np\n",
        "\n",
        "random_vector = np.random.uniform(1, 20, (4,5))\n",
        "\n",
        "max_index = np.argmax(random_vector, axis=1)\n",
        "\n",
        "random_vector[np.arange(random_vector.shape[0]), max_index] = 0"
      ]
    },
    {
      "cell_type": "code",
      "source": [
        "random_vector\n"
      ],
      "metadata": {
        "colab": {
          "base_uri": "https://localhost:8080/"
        },
        "id": "KMvyowZuvINd",
        "outputId": "122a46a7-be16-4105-d3e9-3ba16a8bebf2"
      },
      "execution_count": 3,
      "outputs": [
        {
          "output_type": "execute_result",
          "data": {
            "text/plain": [
              "array([[ 0.        ,  3.73743426,  7.7192406 , 10.90264404,  9.91274911],\n",
              "       [ 6.07161732,  0.        ,  5.63685118, 12.13588627, 11.84850587],\n",
              "       [10.68661716,  9.67592134, 13.77046094,  8.99617156,  0.        ],\n",
              "       [12.53263591,  8.1421418 , 11.16550243,  0.        ,  2.09171415]])"
            ]
          },
          "metadata": {},
          "execution_count": 3
        }
      ]
    },
    {
      "cell_type": "code",
      "source": [],
      "metadata": {
        "id": "R9BQrYc0vQ3C"
      },
      "execution_count": null,
      "outputs": []
    }
  ]
}